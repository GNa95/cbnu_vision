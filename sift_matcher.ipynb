{
 "cells": [
  {
   "cell_type": "code",
   "execution_count": 1,
   "id": "e940e9ad",
   "metadata": {},
   "outputs": [],
   "source": [
    "import cv2\n",
    "import os"
   ]
  },
  {
   "cell_type": "code",
   "execution_count": 104,
   "id": "1d5d36d7",
   "metadata": {},
   "outputs": [],
   "source": [
    "# 신규 이미지 로드\n",
    "new_img = cv2.imread('./image_change/5079.png',0)"
   ]
  },
  {
   "cell_type": "code",
   "execution_count": 105,
   "id": "88bda7c7",
   "metadata": {},
   "outputs": [],
   "source": [
    "sift = cv2.xfeatures2d.SIFT_create()"
   ]
  },
  {
   "cell_type": "code",
   "execution_count": 106,
   "id": "a262563b",
   "metadata": {},
   "outputs": [],
   "source": [
    "kp1, des1 = sift.detectAndCompute(new_img, None)"
   ]
  },
  {
   "cell_type": "code",
   "execution_count": 107,
   "id": "473c1c92",
   "metadata": {},
   "outputs": [],
   "source": [
    "img_draw = cv2.drawKeypoints(new_img, kp1, None,\\\n",
    "                            flags=cv2.DRAW_MATCHES_FLAGS_DRAW_RICH_KEYPOINTS)"
   ]
  },
  {
   "cell_type": "code",
   "execution_count": 108,
   "id": "536ed0a5",
   "metadata": {},
   "outputs": [],
   "source": [
    "# cv2.imshow('SIFT', img_draw)\n",
    "# cv2.waitKey()\n",
    "# cv2.destroyAllWindows()"
   ]
  },
  {
   "cell_type": "code",
   "execution_count": 109,
   "id": "c1ff0434",
   "metadata": {},
   "outputs": [],
   "source": [
    "bf = cv2.BFMatcher()"
   ]
  },
  {
   "cell_type": "code",
   "execution_count": 110,
   "id": "adfe05c0",
   "metadata": {},
   "outputs": [],
   "source": [
    "img2 = cv2.imread('./image_change/8.png',0)\n",
    "kp2, des2 = sift.detectAndCompute(img2, None)"
   ]
  },
  {
   "cell_type": "code",
   "execution_count": 111,
   "id": "2e3d5727",
   "metadata": {},
   "outputs": [],
   "source": [
    "kp1, des1 = sift.detectAndCompute(new_img, None)\n",
    "kp2, des2 = sift.detectAndCompute(img2, None)\n",
    "matches = bf.match(des1, des2)\n",
    "\n",
    "matches = sorted(matches, key=lambda x:x.distance)\n",
    "min_dist, max_dist = matches[0].distance, matches[-1].distance\n",
    "# 최소 거리의 20% 지점을 임계점으로 설정\n",
    "ratio = 0.2\n",
    "good_thresh = (max_dist - min_dist) * ratio + min_dist\n",
    "# 임계점 보다 작은 매칭점만 좋은 매칭점으로 분류\n",
    "good_matches = [m for m in matches if m.distance < good_thresh]\n",
    "\n",
    "res = cv2.drawMatches(new_img, kp1, img2, kp2, good_matches, None,\\\n",
    "                     flags=cv2.DRAW_MATCHES_FLAGS_NOT_DRAW_SINGLE_POINTS)"
   ]
  },
  {
   "cell_type": "code",
   "execution_count": 112,
   "id": "0a0ba242",
   "metadata": {},
   "outputs": [],
   "source": [
    "# cv2.imshow('BFMatcher', res)\n",
    "# cv2.waitKey()\n",
    "# cv2.destroyAllWindows()"
   ]
  },
  {
   "cell_type": "code",
   "execution_count": 113,
   "id": "10ea4061",
   "metadata": {},
   "outputs": [
    {
     "name": "stdout",
     "output_type": "stream",
     "text": [
      "14.png\n",
      "matches:26/183, min:45.80, max:424.83, thresh:121.61\n",
      "max>>>> 14.png 26\n",
      "15.png\n",
      "matches:28/183, min:45.80, max:424.83, thresh:121.61\n",
      "max>>>> 15.png 28\n",
      "1653.png\n",
      "matches:6/183, min:45.80, max:424.83, thresh:121.61\n",
      "2352.png\n",
      "matches:37/183, min:45.80, max:424.83, thresh:121.61\n",
      "max>>>> 2352.png 37\n",
      "2353.png\n",
      "matches:30/183, min:45.80, max:424.83, thresh:121.61\n",
      "26.png\n",
      "matches:25/183, min:45.80, max:424.83, thresh:121.61\n",
      "2696.png\n",
      "matches:14/183, min:45.80, max:424.83, thresh:121.61\n",
      "27.png\n",
      "matches:26/183, min:45.80, max:424.83, thresh:121.61\n",
      "270.png\n",
      "matches:7/183, min:45.80, max:424.83, thresh:121.61\n",
      "28.png\n",
      "matches:25/183, min:45.80, max:424.83, thresh:121.61\n",
      "29.png\n",
      "matches:8/183, min:45.80, max:424.83, thresh:121.61\n",
      "416.png\n",
      "matches:31/183, min:45.80, max:424.83, thresh:121.61\n",
      "417.png\n",
      "matches:32/183, min:45.80, max:424.83, thresh:121.61\n",
      "450.png\n",
      "matches:10/183, min:45.80, max:424.83, thresh:121.61\n",
      "4779.png\n",
      "matches:1/183, min:45.80, max:424.83, thresh:121.61\n",
      "5.png\n",
      "matches:42/183, min:45.80, max:424.83, thresh:121.61\n",
      "max>>>> 5.png 42\n",
      "5018.png\n",
      "matches:28/183, min:45.80, max:424.83, thresh:121.61\n",
      "5019.png\n",
      "matches:16/183, min:45.80, max:424.83, thresh:121.61\n",
      "5079.png\n",
      "matches:183/183, min:45.80, max:424.83, thresh:121.61\n",
      "5080.png\n",
      "matches:89/183, min:45.80, max:424.83, thresh:121.61\n",
      "max>>>> 5080.png 89\n",
      "6.png\n",
      "matches:6/183, min:45.80, max:424.83, thresh:121.61\n",
      "8.png\n",
      "matches:36/183, min:45.80, max:424.83, thresh:121.61\n"
     ]
    }
   ],
   "source": [
    "path = \"./image_change\"\n",
    "image_list = []\n",
    "max_matches =0\n",
    "good_match = ''\n",
    "for file_name in os.listdir(path):\n",
    "    print(file_name)\n",
    "    img2 = cv2.imread(os.path.join(path, file_name),0)\n",
    "    kp2, des2 = sift.detectAndCompute(img2, None)\n",
    "    \n",
    "    matches = bf.match(des1, des2)\n",
    "    \n",
    "    matches = sorted(matches, key=lambda x:x.distance)\n",
    "    \n",
    "    good_matches = [m for m in matches if m.distance < 150]\n",
    "    print('matches:%d/%d, min:%.2f, max:%.2f, thresh:%.2f' \\\n",
    "            %(len(good_matches),len(matches), min_dist, max_dist, good_thresh))\n",
    "    if max_matches <= len(good_matches) & len(good_matches) != len(matches):\n",
    "        max_matches = len(good_matches)\n",
    "        good_match = file_name\n",
    "        print(\"max>>>>\",good_match, len(good_matches))\n",
    "    "
   ]
  },
  {
   "cell_type": "code",
   "execution_count": null,
   "id": "11c29abb",
   "metadata": {},
   "outputs": [],
   "source": []
  },
  {
   "cell_type": "code",
   "execution_count": null,
   "id": "3c06ed68",
   "metadata": {},
   "outputs": [],
   "source": []
  },
  {
   "cell_type": "code",
   "execution_count": null,
   "id": "9c8462ef",
   "metadata": {},
   "outputs": [],
   "source": []
  }
 ],
 "metadata": {
  "kernelspec": {
   "display_name": "vision",
   "language": "python",
   "name": "vision"
  },
  "language_info": {
   "codemirror_mode": {
    "name": "ipython",
    "version": 3
   },
   "file_extension": ".py",
   "mimetype": "text/x-python",
   "name": "python",
   "nbconvert_exporter": "python",
   "pygments_lexer": "ipython3",
   "version": "3.6.13"
  }
 },
 "nbformat": 4,
 "nbformat_minor": 5
}
