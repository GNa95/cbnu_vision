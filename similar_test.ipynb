{
 "cells": [
  {
   "cell_type": "code",
   "execution_count": 1,
   "id": "1aa8e780-0210-417d-b3b6-2d1d43da707d",
   "metadata": {},
   "outputs": [],
   "source": [
    "import cv2"
   ]
  },
  {
   "cell_type": "code",
   "execution_count": 2,
   "id": "754a7fe2-fa08-448e-986a-c7a072143cc9",
   "metadata": {},
   "outputs": [],
   "source": [
    "image = cv2.imread('./dowon_img/1653.png', 0)"
   ]
  },
  {
   "cell_type": "code",
   "execution_count": 3,
   "id": "7c9e1116",
   "metadata": {},
   "outputs": [],
   "source": [
    "image = cv2.resize(image, dsize=(720, 720))"
   ]
  },
  {
   "cell_type": "code",
   "execution_count": 4,
   "id": "958bb2b4",
   "metadata": {},
   "outputs": [],
   "source": [
    "canny = cv2.Canny(image, 200, 250)\n",
    "canny = cv2.bitwise_not(canny)"
   ]
  },
  {
   "cell_type": "code",
   "execution_count": 5,
   "id": "34117493",
   "metadata": {},
   "outputs": [],
   "source": [
    "import os\n",
    "import cv2\n",
    "path = \"./dowon_img\"\n",
    "image_list = []\n",
    "for file_name in os.listdir(path):\n",
    "    image = cv2.imread(os.path.join(path, file_name),0)\n",
    "    image = cv2.resize(image, dsize=(720, 720))\n",
    "    canny = cv2.Canny(image, 200, 250)\n",
    "    canny = cv2.bitwise_not(canny)\n",
    "    image_list.append(canny)"
   ]
  },
  {
   "cell_type": "code",
   "execution_count": 6,
   "id": "9cd45c4d",
   "metadata": {},
   "outputs": [],
   "source": [
    "detector = cv2.xfeatures2d.SIFT_create()\n",
    "\n",
    "kp1, desc1 = detector.detectAndCompute(image_list[0], None)\n",
    "kp2, desc2 = detector.detectAndCompute(image_list[1], None)\n",
    "\n",
    "matcher = cv2.BFMatcher(cv2.NORM_L1, crossCheck=True)\n",
    "\n",
    "matches = matcher.match(desc1, desc2)\n",
    "\n",
    "res = cv2.drawMatches(image_list[0], kp1, image_list[1], kp2, matches, None, \\\n",
    "                      flags=cv2.DRAW_MATCHES_FLAGS_NOT_DRAW_SINGLE_POINTS)"
   ]
  },
  {
   "cell_type": "code",
   "execution_count": 7,
   "id": "4de97a58",
   "metadata": {},
   "outputs": [
    {
     "data": {
      "text/plain": [
       "[<DMatch 000001C50D40C5D0>,\n",
       " <DMatch 000001C50D40CE90>,\n",
       " <DMatch 000001C50EC45DB0>,\n",
       " <DMatch 000001C50EC45E50>,\n",
       " <DMatch 000001C50EC45E10>,\n",
       " <DMatch 000001C50EC45ED0>,\n",
       " <DMatch 000001C50EC45E90>,\n",
       " <DMatch 000001C50EC45EF0>,\n",
       " <DMatch 000001C50EC45EB0>,\n",
       " <DMatch 000001C50EC45D70>,\n",
       " <DMatch 000001C50EC45E70>,\n",
       " <DMatch 000001C50EC45F10>,\n",
       " <DMatch 000001C50EC45F30>,\n",
       " <DMatch 000001C50EC45F50>,\n",
       " <DMatch 000001C50EC45F70>,\n",
       " <DMatch 000001C50EC45F90>,\n",
       " <DMatch 000001C50EC45FB0>,\n",
       " <DMatch 000001C50EC45FD0>,\n",
       " <DMatch 000001C50EC7B030>,\n",
       " <DMatch 000001C50EC7B050>,\n",
       " <DMatch 000001C50EC7B070>,\n",
       " <DMatch 000001C50EC7B090>,\n",
       " <DMatch 000001C50EC7B0B0>,\n",
       " <DMatch 000001C50EC7B0D0>,\n",
       " <DMatch 000001C50EC7B0F0>,\n",
       " <DMatch 000001C50EC7B110>,\n",
       " <DMatch 000001C50EC7B130>,\n",
       " <DMatch 000001C50EC7B150>,\n",
       " <DMatch 000001C50EC7B170>,\n",
       " <DMatch 000001C50EC7B190>,\n",
       " <DMatch 000001C50EC7B1B0>,\n",
       " <DMatch 000001C50EC7B1D0>,\n",
       " <DMatch 000001C50EC7B1F0>,\n",
       " <DMatch 000001C50EC7B210>,\n",
       " <DMatch 000001C50EC7B230>,\n",
       " <DMatch 000001C50EC7B250>,\n",
       " <DMatch 000001C50EC7B270>,\n",
       " <DMatch 000001C50EC7B290>,\n",
       " <DMatch 000001C50EC7B2B0>,\n",
       " <DMatch 000001C50EC7B2D0>,\n",
       " <DMatch 000001C50EC7B2F0>,\n",
       " <DMatch 000001C50EC7B310>,\n",
       " <DMatch 000001C50EC7B330>,\n",
       " <DMatch 000001C50EC7B350>,\n",
       " <DMatch 000001C50EC7B370>,\n",
       " <DMatch 000001C50EC7B390>,\n",
       " <DMatch 000001C50EC7B3B0>,\n",
       " <DMatch 000001C50EC7B3D0>,\n",
       " <DMatch 000001C50EC7B3F0>,\n",
       " <DMatch 000001C50EC7B410>,\n",
       " <DMatch 000001C50EC7B430>,\n",
       " <DMatch 000001C50EC7B450>,\n",
       " <DMatch 000001C50EC7B470>,\n",
       " <DMatch 000001C50EC7B490>,\n",
       " <DMatch 000001C50EC7B4B0>,\n",
       " <DMatch 000001C50EC7B4D0>,\n",
       " <DMatch 000001C50EC7B4F0>,\n",
       " <DMatch 000001C50EC7B510>,\n",
       " <DMatch 000001C50EC7B530>,\n",
       " <DMatch 000001C50EC7B550>,\n",
       " <DMatch 000001C50EC7B570>,\n",
       " <DMatch 000001C50EC7B590>,\n",
       " <DMatch 000001C50EC7B5B0>,\n",
       " <DMatch 000001C50EC7B5D0>,\n",
       " <DMatch 000001C50EC7B5F0>,\n",
       " <DMatch 000001C50EC7B610>,\n",
       " <DMatch 000001C50EC7B630>,\n",
       " <DMatch 000001C50EC7B650>,\n",
       " <DMatch 000001C50EC7B670>,\n",
       " <DMatch 000001C50EC7B690>,\n",
       " <DMatch 000001C50EC7B6B0>,\n",
       " <DMatch 000001C50EC7B6D0>,\n",
       " <DMatch 000001C50EC7B6F0>,\n",
       " <DMatch 000001C50EC7B710>,\n",
       " <DMatch 000001C50EC7B730>,\n",
       " <DMatch 000001C50EC7B750>,\n",
       " <DMatch 000001C50EC7B770>,\n",
       " <DMatch 000001C50EC7B790>,\n",
       " <DMatch 000001C50EC7B7B0>,\n",
       " <DMatch 000001C50EC7B7D0>,\n",
       " <DMatch 000001C50EC7B7F0>,\n",
       " <DMatch 000001C50EC7B810>]"
      ]
     },
     "execution_count": 7,
     "metadata": {},
     "output_type": "execute_result"
    }
   ],
   "source": [
    "matches"
   ]
  }
 ],
 "metadata": {
  "kernelspec": {
   "display_name": "vision",
   "language": "python",
   "name": "vision"
  },
  "language_info": {
   "codemirror_mode": {
    "name": "ipython",
    "version": 3
   },
   "file_extension": ".py",
   "mimetype": "text/x-python",
   "name": "python",
   "nbconvert_exporter": "python",
   "pygments_lexer": "ipython3",
   "version": "3.6.13"
  }
 },
 "nbformat": 4,
 "nbformat_minor": 5
}
